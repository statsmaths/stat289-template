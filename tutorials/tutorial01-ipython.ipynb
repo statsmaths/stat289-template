{
 "cells": [
  {
   "cell_type": "markdown",
   "metadata": {},
   "source": [
    "## Tutorial 01: Introduction to IPython Notebooks\n",
    "\n",
    "Python notebooks consist of *cells* that contain either text (in markdown) or\n",
    "code. You can run the code by highlighting the call and clicking the Run\n",
    "button above. If you have used RMarkdown, IPython notebooks are similar but\n",
    "function slightly differently. One big difference is that a IPython notebook\n",
    "saves the output by default in the notebook itself.\n",
    "\n",
    "### Run a cell\n",
    "\n",
    "Try to run the code snippet below by clicking on the cell and selecting the\n",
    "Run button above."
   ]
  },
  {
   "cell_type": "code",
   "execution_count": 2,
   "metadata": {},
   "outputs": [
    {
     "data": {
      "text/plain": [
       "2"
      ]
     },
     "execution_count": 2,
     "metadata": {},
     "output_type": "execute_result"
    }
   ],
   "source": [
    "1 + 1"
   ]
  },
  {
   "cell_type": "markdown",
   "metadata": {},
   "source": [
    "You can also run a cell by typing Shift + Enter on the keyboard. This\n",
    "will automatically move to the next cell; doing this is an easy way to\n",
    "run multiple lines together. Test the shortcut here:"
   ]
  },
  {
   "cell_type": "code",
   "execution_count": 4,
   "metadata": {},
   "outputs": [
    {
     "data": {
      "text/plain": [
       "3"
      ]
     },
     "execution_count": 4,
     "metadata": {},
     "output_type": "execute_result"
    }
   ],
   "source": [
    "1 + 2"
   ]
  },
  {
   "cell_type": "markdown",
   "metadata": {},
   "source": [
    "In the cells below, write and run code to determine the product of 82 and 91."
   ]
  },
  {
   "cell_type": "code",
   "execution_count": null,
   "metadata": {},
   "outputs": [],
   "source": []
  },
  {
   "cell_type": "markdown",
   "metadata": {},
   "source": [
    "You can add new code block using the `+` sign on the menu (to the left of the\n",
    "Run button). This adds a new code cell below whatever block you are currently\n",
    "on. So, click on this box and add a new code block. Compute the value of 81 divided\n",
    "by 10."
   ]
  },
  {
   "cell_type": "markdown",
   "metadata": {},
   "source": [
    "### Make your own text box\n",
    "\n",
    "Now, let's make your own text cell. Click on the empty cell below. Then,\n",
    "select the dropdown menu to the right of Run button and choose the option\n",
    "\"Markdown\". Then put a message in the cell and Run it. The result should\n",
    "be a new text box."
   ]
  },
  {
   "cell_type": "code",
   "execution_count": null,
   "metadata": {},
   "outputs": [],
   "source": []
  },
  {
   "cell_type": "markdown",
   "metadata": {},
   "source": [
    "### Controlling the kernel\n",
    "\n",
    "You'll notice that ever time you run a cell there is an integer that shows up next\n",
    "to the exectued code. This integer increases each time you run a cell. We can entirely\n",
    "restart the notebook and clear all of the output by selecting\n",
    "`Kernel=>\"Restart and Clear Output\"` in the menu. **Try this now**.\n",
    "\n",
    "When you save a Jupyter notebook both the code and results are saved. This\n",
    "has benefits and drawbacks (easier to pass results around but much larger files),\n",
    "but does make it easier to submit your results through GitHub.\n",
    "Note though that the Python environment is **not** saved. So, you'll need to\n",
    "reload datasets and redefine variables. More on this later."
   ]
  },
  {
   "cell_type": "code",
   "execution_count": null,
   "metadata": {},
   "outputs": [],
   "source": []
  }
 ],
 "metadata": {
  "kernelspec": {
   "display_name": "Python 3",
   "language": "python",
   "name": "python3"
  },
  "language_info": {
   "codemirror_mode": {
    "name": "ipython",
    "version": 3
   },
   "file_extension": ".py",
   "mimetype": "text/x-python",
   "name": "python",
   "nbconvert_exporter": "python",
   "pygments_lexer": "ipython3",
   "version": "3.6.5"
  }
 },
 "nbformat": 4,
 "nbformat_minor": 2
}
