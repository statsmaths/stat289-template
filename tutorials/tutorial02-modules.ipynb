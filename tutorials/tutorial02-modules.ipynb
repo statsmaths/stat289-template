{
 "cells": [
  {
   "cell_type": "markdown",
   "metadata": {},
   "source": [
    "## Tutorial 02: Python Modules\n",
    "\n",
    "Python modules provide a way of packaging code in a reusable way. Much later we will see\n",
    "how to create our own modules. For now, the focus will be on loading modules that provide\n",
    "basic functionality beyond the standard functions available in the base language. These\n",
    "consist of (1) the Python standard library, and (2) third-party software. The first are\n",
    "available on all systems running Python. The second need to be installed on top of the\n",
    "basic language."
   ]
  },
  {
   "cell_type": "markdown",
   "metadata": {},
   "source": [
    "### Standard library\n",
    "\n",
    "Let's start by loading the `sys` module, which provides access to some variables\n",
    "used or maintained by the interpreter and to functions that interact strongly\n",
    "with the interpreter.\n",
    "\n",
    "To load the module just run this:"
   ]
  },
  {
   "cell_type": "code",
   "execution_count": null,
   "metadata": {},
   "outputs": [],
   "source": [
    "import sys"
   ]
  },
  {
   "cell_type": "markdown",
   "metadata": {},
   "source": [
    "To run a function or access a variable inside an imported module, we use a notation\n",
    "that starts with the module name followed by a dot and then the object name, like\n",
    "this: `module.object`. For example, `sys` has an object called `version` that describes\n",
    "the version of Python that is currently installed. We can access it like this:"
   ]
  },
  {
   "cell_type": "code",
   "execution_count": null,
   "metadata": {},
   "outputs": [],
   "source": [
    "sys.version"
   ]
  },
  {
   "cell_type": "markdown",
   "metadata": {},
   "source": [
    "Jupyter notebooks provide an easy way of seeing all of the objects in a module.\n",
    "Start by typing the module name followed be a dot, then hit the \"Tab\" button on\n",
    "your keyboard. A menu of all available objects will appear. Try that here and\n",
    "select an element to see what happens. "
   ]
  },
  {
   "cell_type": "code",
   "execution_count": null,
   "metadata": {},
   "outputs": [],
   "source": [
    "sys."
   ]
  },
  {
   "cell_type": "markdown",
   "metadata": {},
   "source": [
    "### Anaconda modules\n",
    "\n",
    "One benefit of using Anaconda Python is that it includes by default many scientific\n",
    "modules in addition to the standard library. One library that we will use heavily is\n",
    "called `numpy`. Let's try to load this library as well. Here we will use a slightly \n",
    "different command that defines an alias for the library (`np` is a very common alias\n",
    "for `numpy` that you will see in many scripts and examples):"
   ]
  },
  {
   "cell_type": "code",
   "execution_count": null,
   "metadata": {},
   "outputs": [],
   "source": [
    "import numpy as np"
   ]
  },
  {
   "cell_type": "markdown",
   "metadata": {},
   "source": [
    "Now, to access an object in the numpy module, we type `np` (rather than `numpy`)\n",
    "followed by a dot and then the object name. For example, we can test the absolute\n",
    "value function:"
   ]
  },
  {
   "cell_type": "code",
   "execution_count": null,
   "metadata": {},
   "outputs": [],
   "source": [
    "np.abs(-100)"
   ]
  },
  {
   "cell_type": "markdown",
   "metadata": {},
   "source": [
    "The python scientific stack, which we will use in most tutorials, consists of\n",
    "the following four modules and common aliases:"
   ]
  },
  {
   "cell_type": "code",
   "execution_count": null,
   "metadata": {},
   "outputs": [],
   "source": [
    "import numpy as np\n",
    "import scipy as sp\n",
    "import pandas as pd\n",
    "import matplotlib.pyplot as plt"
   ]
  },
  {
   "cell_type": "markdown",
   "metadata": {},
   "source": [
    "Make sure that these load okay an your system. We will learn more about these modules\n",
    "throughout the semester."
   ]
  },
  {
   "cell_type": "markdown",
   "metadata": {},
   "source": [
    "### Additional modules\n",
    "\n",
    "Anaconda Python comes with many of the modules needed for general purpose \n",
    "data science work. We need to install several others to help us work with \n",
    "text and image data. \n",
    "\n",
    "The way that you install these is slightly different depending on your\n",
    "platform.\n",
    "\n",
    "- **macOS** / **linux**: open up a terminal window and type `which conda`.\n",
    "If should print out a path with \"anaconda3\" in the name.\n",
    "- **windows**: anaconda python should have installed a program called\n",
    "Anaconda Prompt. Open this and type the commands below into the prompt.\n",
    "\n",
    "Now, the first thing we need to do is to update `conda`, the package manager\n",
    "for our version of Python. Do this by typing the following into the terminal\n",
    "or prompt:\n",
    "\n",
    "```\n",
    "conda update --all\n",
    "```\n",
    "\n",
    "Now, install the keras library with the following:\n",
    "\n",
    "```\n",
    "conda install keras\n",
    "```\n",
    "\n",
    "Once that is done, you should be able to load `keras` within this Python \n",
    "notebook. Try it here:"
   ]
  },
  {
   "cell_type": "code",
   "execution_count": null,
   "metadata": {},
   "outputs": [],
   "source": [
    "import keras"
   ]
  },
  {
   "cell_type": "markdown",
   "metadata": {},
   "source": [
    "Note that it may give a warning or message; this is okay as long as you do not have\n",
    "an error. Now, proceed to install three other libraries (run each line one at a time,\n",
    "and select `y` if prompted with a qustion):\n",
    "\n",
    "```\n",
    "conda install gensim\n",
    "conda install opencv\n",
    "conda install spacy\n",
    "conda install networkx\n",
    "```\n",
    "\n",
    "Then, run these using the `pip` installer:\n",
    "\n",
    "```\n",
    "pip install --upgrade pip\n",
    "pip install pyLDAvis\n",
    "```\n",
    "\n",
    "**Note:** I fully expect some of you to have errors with some of these packages.\n",
    "Don't get too frustrated. I am doing this now, well before we need any of these \n",
    "so that I have plenty of time to help you.\n",
    "\n",
    "Finally, check that each package you installed can be loaded ok:"
   ]
  },
  {
   "cell_type": "code",
   "execution_count": null,
   "metadata": {},
   "outputs": [],
   "source": [
    "import gensim"
   ]
  },
  {
   "cell_type": "code",
   "execution_count": null,
   "metadata": {},
   "outputs": [],
   "source": [
    "import cv2       # this is the name of the opencv library"
   ]
  },
  {
   "cell_type": "code",
   "execution_count": null,
   "metadata": {},
   "outputs": [],
   "source": [
    "import spacy"
   ]
  },
  {
   "cell_type": "code",
   "execution_count": null,
   "metadata": {},
   "outputs": [],
   "source": [
    "import networkx"
   ]
  },
  {
   "cell_type": "code",
   "execution_count": null,
   "metadata": {},
   "outputs": [],
   "source": [
    "import pyLDAvis"
   ]
  },
  {
   "cell_type": "markdown",
   "metadata": {},
   "source": [
    "I just tested all of these on my computer and they worked fine. If you run into\n",
    "an issues please let me as soon as possible!"
   ]
  },
  {
   "cell_type": "markdown",
   "metadata": {},
   "source": [
    "### Installing data\n",
    "\n",
    "The `keras` and `spacy` modules also need some external data. Let's\n",
    "try to load those now to make sure everything is working as expected."
   ]
  },
  {
   "cell_type": "code",
   "execution_count": null,
   "metadata": {},
   "outputs": [],
   "source": [
    "import keras.applications\n",
    "\n",
    "vgg_model = keras.applications.vgg16.VGG16(weights='imagenet')"
   ]
  },
  {
   "cell_type": "markdown",
   "metadata": {},
   "source": [
    "And for spacy, run the following:"
   ]
  },
  {
   "cell_type": "code",
   "execution_count": null,
   "metadata": {},
   "outputs": [],
   "source": [
    "spacy.cli.download(\"en\")"
   ]
  },
  {
   "cell_type": "markdown",
   "metadata": {},
   "source": [
    "Again, please let me know if you have any trouble with these steps. I'd like to\n",
    "figure them out before we actually need these libraries."
   ]
  },
  {
   "cell_type": "markdown",
   "metadata": {},
   "source": [
    "-------\n",
    "\n",
    "## Practice\n",
    "\n",
    "There is not much to practice here, but let's see how to\n",
    "explore a module in Python. First, import the `platform`\n",
    "module:"
   ]
  },
  {
   "cell_type": "code",
   "execution_count": null,
   "metadata": {},
   "outputs": [],
   "source": []
  },
  {
   "cell_type": "markdown",
   "metadata": {},
   "source": [
    "Now, run the command `dir(platform)` to see all of the functions in\n",
    "the `os` module. This is the same as using the `.` and tab\n",
    "notation above."
   ]
  },
  {
   "cell_type": "code",
   "execution_count": null,
   "metadata": {},
   "outputs": [],
   "source": []
  },
  {
   "cell_type": "markdown",
   "metadata": {},
   "source": [
    "Let's say you are interested in the function `platform.system`. To\n",
    "find out more about this function, type the command\n",
    "`help(platform.system)` in the code block below:"
   ]
  },
  {
   "cell_type": "code",
   "execution_count": null,
   "metadata": {},
   "outputs": [],
   "source": []
  },
  {
   "cell_type": "markdown",
   "metadata": {},
   "source": [
    "Based on the help page, what do you think would be the result of\n",
    "running `platform.system` on your machine?"
   ]
  },
  {
   "cell_type": "markdown",
   "metadata": {},
   "source": [
    "**Answer:**"
   ]
  },
  {
   "cell_type": "markdown",
   "metadata": {},
   "source": [
    "Try running the command below:"
   ]
  },
  {
   "cell_type": "code",
   "execution_count": null,
   "metadata": {},
   "outputs": [],
   "source": []
  },
  {
   "cell_type": "markdown",
   "metadata": {},
   "source": [
    "Does the answer match your expectation? If not, try to figure out why!"
   ]
  },
  {
   "cell_type": "code",
   "execution_count": null,
   "metadata": {},
   "outputs": [],
   "source": []
  }
 ],
 "metadata": {
  "kernelspec": {
   "display_name": "Python 3",
   "language": "python",
   "name": "python3"
  },
  "language_info": {
   "codemirror_mode": {
    "name": "ipython",
    "version": 3
   },
   "file_extension": ".py",
   "mimetype": "text/x-python",
   "name": "python",
   "nbconvert_exporter": "python",
   "pygments_lexer": "ipython3",
   "version": "3.6.6"
  }
 },
 "nbformat": 4,
 "nbformat_minor": 2
}
